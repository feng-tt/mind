{
 "metadata": {
  "language_info": {
   "codemirror_mode": {
    "name": "ipython",
    "version": 3
   },
   "file_extension": ".py",
   "mimetype": "text/x-python",
   "name": "python",
   "nbconvert_exporter": "python",
   "pygments_lexer": "ipython3",
   "version": "3.8.10"
  },
  "orig_nbformat": 4,
  "kernelspec": {
   "name": "python3",
   "display_name": "Python 3.8.10 64-bit"
  },
  "interpreter": {
   "hash": "a6dc62afd8b03c17538a9dfce2fcb18f62cec380cc7b77050462a64b7e4e4814"
  }
 },
 "nbformat": 4,
 "nbformat_minor": 2,
 "cells": [
  {
   "cell_type": "code",
   "execution_count": 28,
   "metadata": {},
   "outputs": [],
   "source": [
    "import pandas as pd\n",
    "import numpy as np "
   ]
  },
  {
   "cell_type": "code",
   "execution_count": 29,
   "metadata": {},
   "outputs": [
    {
     "output_type": "stream",
     "name": "stdout",
     "text": [
      "<class 'pandas.core.frame.DataFrame'>\nIndex: 5 entries, 白沙湘永煤矿厂 to 扎诺尔南山煤矿厂\nData columns (total 3 columns):\n #   Column        Non-Null Count  Dtype  \n---  ------        --------------  -----  \n 0   粉尘浓度(mg/m^3)  5 non-null      float64\n 1   游离二氧化硅含量(%)   5 non-null      float64\n 2   煤肺患病率(%)      5 non-null      float64\ndtypes: float64(3)\nmemory usage: 160.0+ bytes\nNone\n          粉尘浓度(mg/m^3)  游离二氧化硅含量(%)  煤肺患病率(%)\n矿厂                                           \n白沙湘永煤矿厂           50.8          4.3       8.7\n沈阳田师傅煤矿厂         200.0          4.9       7.2\n抚顺龙凤煤矿厂           71.4          2.5       5.0\n大同同家山煤矿厂          98.5          3.7       2.7\n扎诺尔南山煤矿厂          10.2          2.4       0.3\n"
     ]
    }
   ],
   "source": [
    "A=pd.read_excel('../table/2020-7-19.xlsx',index_col='矿厂')\n",
    "print(A.info())\n",
    "print(A)"
   ]
  },
  {
   "cell_type": "code",
   "execution_count": 30,
   "metadata": {},
   "outputs": [],
   "source": [
    "# coding: gbk\n",
    "# 使用CRITIC客观赋权法获得真实误差序列与组合预测值\n",
    "# 所有的评价指标均为损益性指标，越小越好\n",
    "# 参考链接：https://blog.csdn.net/stephen_curry300/article/details/106989729\n",
    "# 参考论文：两种客观赋权法及其在确定组合预测权重中的应用\n",
    "\n",
    "# 确定各单一预测模型权重步骤如下：\n",
    "# 1）对原始决策矩阵X进行标准化处理，得到标准化矩阵R\n",
    "# 2）由标准化矩阵求出各评价指标的概率\n",
    "# 3）按客观赋权方法求各评定指标的权重（这里有CRITIC法和变异系数法两种）\n",
    "# 4）最后，根据  各评价指标概率  和  各评价指标的权重  计算各预测方法的权重，权重之和为1.0\n",
    "\n",
    "# X：array\n",
    "def critic(X):\n",
    "    print('原始矩阵：',X)\n",
    "    n,m = X.shape  # n = 4, m = 5\n",
    "    # 1、对原始决策矩阵X进行标准化处理，得到矩阵Z\n",
    "    Z = standard(X)\n",
    "    print('标准化的矩阵：',Z)\n",
    "\n",
    "    # 2、求各指标的概率\n",
    "    # print(prob(Z))\n",
    "    probValue = prob(Z)\n",
    "    print('各指标概率：',probValue)\n",
    "\n",
    "    # 3、按客观评价法求出各评定指标的权重Wj，这里先介绍CRITIC\n",
    "    R = np.array(pd.DataFrame(Z).corr())\n",
    "    delta = np.zeros(m)\n",
    "    c = np.zeros(m)\n",
    "    for j in range(m):\n",
    "        delta[j] = Z[:,j].std()\n",
    "        c[j] = R.shape[0] - R[:,j].sum()\n",
    "    C = delta * c\n",
    "    w = C/sum(C)\n",
    "    # 这是指标权重\n",
    "    zhiBiaoQuanZhong = np.round(w,5)\n",
    "    print('各指标权重:',zhiBiaoQuanZhong)\n",
    "\n",
    "    # 存放结果\n",
    "    CRITICValue = []\n",
    "    sum1 = 0\n",
    "    for i in range(n):\n",
    "        result = 0\n",
    "        for j in range(m):\n",
    "            result += probValue[i,j]*zhiBiaoQuanZhong[j]\n",
    "        sum1 += result\n",
    "        CRITICValue.append(result)\n",
    "\n",
    "    print('各个预测模型的权重:',CRITICValue)   # 使用CRITIC求出来的每一个预测方法对应的权重，也就是权重分配\n",
    "    print('各个预测模型权重之和:',sum1)   # 几个预测方法所有权重加起来为1\n",
    "\n",
    "\n",
    "# 2、求各指标的概率\n",
    "def prob(Z):\n",
    "    n, m = Z.shape\n",
    "    # 2、由上面得到的标准矩阵求各个指标的概率。由标准化矩阵R求出各评价指标的概率\n",
    "    prob = []  # 用于存放各指标的列表和  总共求5次，因为有5个指标\n",
    "    for j in range(m):\n",
    "        sum1 = 0\n",
    "        for i in range(n):\n",
    "            sum1 += Z[i, j]\n",
    "        prob.append(sum1)  # 将结果存进数组中\n",
    "    # 声明一个二维数组存放概率\n",
    "    probTwo = np.empty([n, m])\n",
    "    # 遍历数组，求每一个指标的概率\n",
    "    for ii in range(n):\n",
    "        for jj in range(m):\n",
    "            probTwo[ii, jj] = Z[ii, jj] / prob[jj]\n",
    "    return probTwo\n",
    "\n",
    "# 1、标准化矩阵\n",
    "def standard(X):\n",
    "    xmin = X.min(axis=0)   # 都是损益性指标\n",
    "    n, m = X.shape\n",
    "    for i in range(n):\n",
    "        for j in range(m):\n",
    "            # X[i,j] = (X[i,j]-xmin[j])/xmaxmin[j]\n",
    "            X[i, j] = xmin[j]/X[i,j]\n",
    "    return X"
   ]
  },
  {
   "cell_type": "code",
   "execution_count": 31,
   "metadata": {},
   "outputs": [],
   "source": [
    "# TOPSIS指标评价\n",
    "# 本题目指标为极小型指标\n",
    "\n",
    "# 极小型指标\n",
    "def dataDirection_1(datas, offset=0):\n",
    "\tdef normalization(data):\n",
    "\t\treturn 1 / (data + offset)\n",
    "\n",
    "\treturn list(map(normalization, datas))\n",
    "\n",
    "\n",
    "# 中间型指标\n",
    "def dataDirection_2(datas, x_min, x_max):\n",
    "\tdef normalization(data):\n",
    "\t\tif data <= x_min or data >= x_max:\n",
    "\t\t\treturn 0\n",
    "\t\telif data > x_min and data < (x_min + x_max) / 2:\n",
    "\t\t\treturn 2 * (data - x_min) / (x_max - x_min)\n",
    "\t\telif data < x_max and data >= (x_min + x_max) / 2:\n",
    "\t\t\treturn 2 * (x_max - data) / (x_max - x_min)\n",
    "\n",
    "\treturn list(map(normalization, datas))\n",
    "\n",
    "\n",
    "# 区间型指标\n",
    "def dataDirection_3(datas, x_min, x_max, x_minimum, x_maximum):\n",
    "\tdef normalization(data):\n",
    "\t\tif data >= x_min and data <= x_max:\n",
    "\t\t\treturn 1\n",
    "\t\telif data <= x_minimum or data >= x_maximum:\n",
    "\t\t\treturn 0\n",
    "\t\telif data > x_max and data < x_maximum:\n",
    "\t\t\treturn 1 - (data - x_max) / (x_maximum - x_max)\n",
    "\t\telif data < x_min and data > x_minimum:\n",
    "\t\t\treturn 1 - (x_min - data) / (x_min - x_minimum)\n",
    "\n",
    "\treturn list(map(normalization, datas))\n",
    "\n",
    "\n",
    "\n",
    "# data:array\n",
    "\n",
    "# 正向化矩阵标准化\n",
    "def temp2(datas):\n",
    "    K = np.power(np.sum(pow(datas,2),axis =1),0.5)\n",
    "    for i in range(0,K.size):\n",
    "        for j in range(0,datas[i].size):\n",
    "            datas[i,j] = datas[i,j] / K[i]      #套用矩阵标准化的公式\n",
    "    return datas "
   ]
  },
  {
   "cell_type": "code",
   "execution_count": 32,
   "metadata": {},
   "outputs": [],
   "source": [
    "# data：DataFrame\n",
    "\n",
    "def topsis(data, weight=None):\n",
    "\t# 归一化\n",
    "\tdata = data / np.sqrt((data ** 2).sum())\n",
    "\n",
    "\t# 最优最劣方案\n",
    "\tZ = pd.DataFrame([data.min(), data.max()], index=['负理想解', '正理想解'])\n",
    "\n",
    "\t# 距离\n",
    "\tweight = entropyWeight(data) if weight is None else np.array(weight)\n",
    "\tResult = data.copy()\n",
    "\tResult['正理想解'] = np.sqrt(((data - Z.loc['正理想解']) ** 2 * weight).sum(axis=1))\n",
    "\tResult['负理想解'] = np.sqrt(((data - Z.loc['负理想解']) ** 2 * weight).sum(axis=1))\n",
    "\n",
    "\t# 综合得分指数\n",
    "\tResult['综合得分指数'] = Result['正理想解'] / (Result['负理想解'] + Result['正理想解'])\n",
    "\tResult['排序'] = Result.rank(ascending=False)['综合得分指数']\n",
    "\n",
    "\treturn Result, Z, weight"
   ]
  },
  {
   "cell_type": "code",
   "execution_count": 33,
   "metadata": {},
   "outputs": [
    {
     "output_type": "stream",
     "name": "stdout",
     "text": [
      "原始矩阵： [[ 50.8   4.3   8.7]\n [200.    4.9   7.2]\n [ 71.4   2.5   5. ]\n [ 98.5   3.7   2.7]\n [ 10.2   2.4   0.3]]\n标准化的矩阵： [[0.2007874  0.55813953 0.03448276]\n [0.051      0.48979592 0.04166667]\n [0.14285714 0.96       0.06      ]\n [0.1035533  0.64864865 0.11111111]\n [1.         1.         1.        ]]\n各指标概率： [[0.13401928 0.1526396  0.0276468 ]\n [0.0340409  0.13394904 0.03340655]\n [0.09535266 0.26254011 0.04810543]\n [0.06911857 0.17739197 0.08908412]\n [0.66746859 0.27347928 0.80175711]]\n各指标权重: [0.30761 0.35505 0.33734]\n各个预测模型的权重: [0.10474673223165747, 0.06929929042332002, 0.13877418171196843, 0.11429622092381603, 0.572883574709238]\n各个预测模型权重之和: 1.0\n"
     ]
    }
   ],
   "source": [
    "# CRITIC计算权重\n",
    "A1=A.values\n",
    "critic(A1)"
   ]
  },
  {
   "cell_type": "code",
   "execution_count": 34,
   "metadata": {},
   "outputs": [
    {
     "output_type": "execute_result",
     "data": {
      "text/plain": [
       "(          0         1         2      正理想解      负理想解    综合得分指数   排序\n",
       " 0  0.212794  0.395845  0.633755  0.306506  0.334914  0.477856  3.0\n",
       " 1  0.696834  0.375194  0.436253  0.197040  0.384140  0.339034  5.0\n",
       " 2  0.489494  0.376660  0.596109  0.197710  0.369579  0.348517  4.0\n",
       " 3  0.462626  0.381906  0.220528  0.314447  0.208495  0.601304  2.0\n",
       " 4  0.124553  0.644059  0.063706  0.458655  0.160206  0.741128  1.0,\n",
       "              0         1         2\n",
       " 负理想解  0.124553  0.375194  0.063706\n",
       " 正理想解  0.696834  0.644059  0.633755,\n",
       " array([0.30761, 0.35505, 0.33734]))"
      ]
     },
     "metadata": {},
     "execution_count": 34
    }
   ],
   "source": [
    "A2=temp2(A1)\n",
    "A3=dataDirection_1(A2)\n",
    "weight=[0.30761,0.35505,0.33734]\n",
    "out=topsis(pd.DataFrame(A3),weight)\n",
    "out"
   ]
  }
 ]
}
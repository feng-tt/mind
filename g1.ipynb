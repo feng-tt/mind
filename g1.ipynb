{
 "metadata": {
  "language_info": {
   "codemirror_mode": {
    "name": "ipython",
    "version": 3
   },
   "file_extension": ".py",
   "mimetype": "text/x-python",
   "name": "python",
   "nbconvert_exporter": "python",
   "pygments_lexer": "ipython3",
   "version": "3.8.10"
  },
  "orig_nbformat": 4,
  "kernelspec": {
   "name": "python3",
   "display_name": "Python 3.8.10 64-bit"
  },
  "interpreter": {
   "hash": "a6dc62afd8b03c17538a9dfce2fcb18f62cec380cc7b77050462a64b7e4e4814"
  }
 },
 "nbformat": 4,
 "nbformat_minor": 2,
 "cells": [
  {
   "cell_type": "code",
   "execution_count": 25,
   "metadata": {},
   "outputs": [],
   "source": [
    "from gurobipy import *\n",
    "import numpy as np\n",
    "\n",
    "\n",
    "file = open(\"C:/Users/20952/Desktop/categories.txt\",\"r\")   #设置文件对象\n",
    "nutrition=[]\n",
    "maxNut={}\n",
    "minNut={}\n",
    "for line in file.readlines():                          #依次读取每行  \n",
    "    line = line.strip('')                             #去掉每行头尾空白  \n",
    "    line = line[:-1]     #去掉换行符，也可以不去，这样最后一个数据要求也要换行\n",
    "    str1=line.split(\" \")[0]\n",
    "    nutrition.append(str1)\n",
    "    str2=line.split(\" \")[1]\n",
    "    minNut[str1]=float(str2)\n",
    "    str3=line.split(\" \")[2]\n",
    "    maxNut[str1]=float(str3)\n",
    "\n",
    "file.close() "
   ]
  },
  {
   "cell_type": "code",
   "execution_count": 26,
   "metadata": {},
   "outputs": [],
   "source": [
    "file = open(\"C:/Users/20952/Desktop/foodcost.txt\",\"r\")   #设置文件对象\n",
    "food=[]\n",
    "cost={}\n",
    "for line in file.readlines():                          #依次读取每行  \n",
    "    line = line.strip('')                             #去掉每行头尾空白  \n",
    "    line = line[:-1]     #去掉换行符，也可以不去，这样最后一个数据要求也要换行\n",
    "    str1=line.split(\" \")[0]\n",
    "    food.append(str1)\n",
    "    str2=line.split(\" \")[1]\n",
    "    cost[str1]=float(str2)\n",
    "\n",
    "file.close() "
   ]
  },
  {
   "cell_type": "code",
   "execution_count": 27,
   "metadata": {},
   "outputs": [],
   "source": [
    "file = open(\"C:/Users/20952/Desktop/nutritionvalues.txt\",\"r\")   #设置文件对象\n",
    "\n",
    "nutritionval=[]\n",
    "food=['hamburger','chicken','hotdog','fries','macaroni','pizza','salad','milk','icecream']\n",
    "for line in file.readlines():                          #依次读取每行  \n",
    "    line = line.strip('')                             #去掉每行头尾空白  \n",
    "    line = line[:-1]     #去掉换行符，也可以不去，这样最后一个数据要求也要换行\n",
    "    str1=line.split(\" \")[0]\n",
    "    nutritionval.append(str1)\n",
    "\n",
    "nutritionvalue={}\n",
    "i=0\n",
    "for x in nutrition:\n",
    "    for y in food:    \n",
    "        nutritionvalue[y,x]=float(nutritionval[i])\n",
    "        i=i+1\n",
    "\n",
    "file.close()"
   ]
  },
  {
   "cell_type": "code",
   "execution_count": 28,
   "metadata": {},
   "outputs": [],
   "source": [
    "def printSolution():\n",
    "    if m.status == GRB.Status.OPTIMAL:\n",
    "        print('\\nCost: %g' % m.objVal)\n",
    "        print('\\nBuy:')\n",
    "        buyx = m.getAttr('x', buy)\n",
    "        for f in food:\n",
    "            if buy[f].x > 0.0001:\n",
    "                print('%s%g' % (f, buyx[f]))\n",
    "    else:\n",
    "        print('No solution')"
   ]
  },
  {
   "cell_type": "code",
   "execution_count": 29,
   "metadata": {},
   "outputs": [
    {
     "output_type": "stream",
     "name": "stdout",
     "text": [
      "Gurobi Optimizer version 9.1.2 build v9.1.2rc0 (win64)\n",
      "Thread count: 6 physical cores, 12 logical processors, using up to 12 threads\n",
      "Optimize a model with 4 rows, 12 columns and 39 nonzeros\n",
      "Model fingerprint: 0x2ded8d18\n",
      "Coefficient statistics:\n",
      "  Matrix range     [1e+00, 2e+03]\n",
      "  Objective range  [9e-01, 3e+00]\n",
      "  Bounds range     [7e+01, 4e+02]\n",
      "  RHS range        [7e+01, 2e+03]\n",
      "Presolve removed 0 rows and 2 columns\n",
      "Presolve time: 0.01s\n",
      "\n",
      "Solved in 0 iterations and 0.01 seconds\n",
      "Infeasible model\n",
      "No solution\n"
     ]
    }
   ],
   "source": [
    "try:\n",
    "    m=Model('modelname')\n",
    "    buy=m.addVars(food,name=\"buy\")\n",
    "    m.setObjective(buy.prod(cost),GRB.MINIMIZE)\n",
    "    m.addConstrs(\n",
    "            (quicksum(nutritionvalue[f,c]*buy[f] for f in food)==\n",
    "            [minNut[c],maxNut[c]]\n",
    "            for c in nutrition),\"_\"\n",
    "            )\n",
    "    m.write(\"diet.lp\")#写入lp文件\n",
    "    m.optimize()\n",
    "    printSolution()\n",
    "except GurobiError:\n",
    "    print('Error reported')"
   ]
  },
  {
   "cell_type": "code",
   "execution_count": null,
   "metadata": {},
   "outputs": [],
   "source": []
  }
 ]
}